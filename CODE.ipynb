{
 "cells": [
  {
   "cell_type": "code",
   "execution_count": 3,
   "id": "a54e1725",
   "metadata": {},
   "outputs": [],
   "source": [
    "#import packages\n",
    "import pandas as pd\n",
    "import numpy as np\n",
    "from scipy import stats\n",
    "from scipy.stats import ttest_ind"
   ]
  },
  {
   "cell_type": "code",
   "execution_count": 4,
   "id": "a1d8a4fd",
   "metadata": {},
   "outputs": [
    {
     "data": {
      "text/html": [
       "<div>\n",
       "<style scoped>\n",
       "    .dataframe tbody tr th:only-of-type {\n",
       "        vertical-align: middle;\n",
       "    }\n",
       "\n",
       "    .dataframe tbody tr th {\n",
       "        vertical-align: top;\n",
       "    }\n",
       "\n",
       "    .dataframe thead th {\n",
       "        text-align: right;\n",
       "    }\n",
       "</style>\n",
       "<table border=\"1\" class=\"dataframe\">\n",
       "  <thead>\n",
       "    <tr style=\"text-align: right;\">\n",
       "      <th></th>\n",
       "      <th>LOCATION</th>\n",
       "      <th>INDICATOR</th>\n",
       "      <th>SUBJECT</th>\n",
       "      <th>MEASURE</th>\n",
       "      <th>FREQUENCY</th>\n",
       "      <th>TIME</th>\n",
       "      <th>Value</th>\n",
       "      <th>Flag Codes</th>\n",
       "    </tr>\n",
       "  </thead>\n",
       "  <tbody>\n",
       "    <tr>\n",
       "      <th>0</th>\n",
       "      <td>AUS</td>\n",
       "      <td>PISAMATH</td>\n",
       "      <td>BOY</td>\n",
       "      <td>MEANSCORE</td>\n",
       "      <td>A</td>\n",
       "      <td>2003</td>\n",
       "      <td>527.000</td>\n",
       "      <td>NaN</td>\n",
       "    </tr>\n",
       "    <tr>\n",
       "      <th>1</th>\n",
       "      <td>AUS</td>\n",
       "      <td>PISAMATH</td>\n",
       "      <td>BOY</td>\n",
       "      <td>MEANSCORE</td>\n",
       "      <td>A</td>\n",
       "      <td>2006</td>\n",
       "      <td>527.000</td>\n",
       "      <td>NaN</td>\n",
       "    </tr>\n",
       "    <tr>\n",
       "      <th>2</th>\n",
       "      <td>AUS</td>\n",
       "      <td>PISAMATH</td>\n",
       "      <td>BOY</td>\n",
       "      <td>MEANSCORE</td>\n",
       "      <td>A</td>\n",
       "      <td>2009</td>\n",
       "      <td>519.000</td>\n",
       "      <td>NaN</td>\n",
       "    </tr>\n",
       "    <tr>\n",
       "      <th>3</th>\n",
       "      <td>AUS</td>\n",
       "      <td>PISAMATH</td>\n",
       "      <td>BOY</td>\n",
       "      <td>MEANSCORE</td>\n",
       "      <td>A</td>\n",
       "      <td>2012</td>\n",
       "      <td>510.115</td>\n",
       "      <td>NaN</td>\n",
       "    </tr>\n",
       "    <tr>\n",
       "      <th>4</th>\n",
       "      <td>AUS</td>\n",
       "      <td>PISAMATH</td>\n",
       "      <td>BOY</td>\n",
       "      <td>MEANSCORE</td>\n",
       "      <td>A</td>\n",
       "      <td>2015</td>\n",
       "      <td>497.000</td>\n",
       "      <td>NaN</td>\n",
       "    </tr>\n",
       "    <tr>\n",
       "      <th>...</th>\n",
       "      <td>...</td>\n",
       "      <td>...</td>\n",
       "      <td>...</td>\n",
       "      <td>...</td>\n",
       "      <td>...</td>\n",
       "      <td>...</td>\n",
       "      <td>...</td>\n",
       "      <td>...</td>\n",
       "    </tr>\n",
       "    <tr>\n",
       "      <th>459</th>\n",
       "      <td>MAC</td>\n",
       "      <td>PISAMATH</td>\n",
       "      <td>GIRL</td>\n",
       "      <td>MEANSCORE</td>\n",
       "      <td>A</td>\n",
       "      <td>2015</td>\n",
       "      <td>548.000</td>\n",
       "      <td>NaN</td>\n",
       "    </tr>\n",
       "    <tr>\n",
       "      <th>460</th>\n",
       "      <td>CRI</td>\n",
       "      <td>PISAMATH</td>\n",
       "      <td>BOY</td>\n",
       "      <td>MEANSCORE</td>\n",
       "      <td>A</td>\n",
       "      <td>2018</td>\n",
       "      <td>411.000</td>\n",
       "      <td>NaN</td>\n",
       "    </tr>\n",
       "    <tr>\n",
       "      <th>461</th>\n",
       "      <td>CRI</td>\n",
       "      <td>PISAMATH</td>\n",
       "      <td>GIRL</td>\n",
       "      <td>MEANSCORE</td>\n",
       "      <td>A</td>\n",
       "      <td>2018</td>\n",
       "      <td>394.000</td>\n",
       "      <td>NaN</td>\n",
       "    </tr>\n",
       "    <tr>\n",
       "      <th>462</th>\n",
       "      <td>LTU</td>\n",
       "      <td>PISAMATH</td>\n",
       "      <td>BOY</td>\n",
       "      <td>MEANSCORE</td>\n",
       "      <td>A</td>\n",
       "      <td>2018</td>\n",
       "      <td>480.000</td>\n",
       "      <td>NaN</td>\n",
       "    </tr>\n",
       "    <tr>\n",
       "      <th>463</th>\n",
       "      <td>LTU</td>\n",
       "      <td>PISAMATH</td>\n",
       "      <td>GIRL</td>\n",
       "      <td>MEANSCORE</td>\n",
       "      <td>A</td>\n",
       "      <td>2018</td>\n",
       "      <td>482.000</td>\n",
       "      <td>NaN</td>\n",
       "    </tr>\n",
       "  </tbody>\n",
       "</table>\n",
       "<p>464 rows × 8 columns</p>\n",
       "</div>"
      ],
      "text/plain": [
       "    LOCATION INDICATOR SUBJECT    MEASURE FREQUENCY  TIME    Value  Flag Codes\n",
       "0        AUS  PISAMATH     BOY  MEANSCORE         A  2003  527.000         NaN\n",
       "1        AUS  PISAMATH     BOY  MEANSCORE         A  2006  527.000         NaN\n",
       "2        AUS  PISAMATH     BOY  MEANSCORE         A  2009  519.000         NaN\n",
       "3        AUS  PISAMATH     BOY  MEANSCORE         A  2012  510.115         NaN\n",
       "4        AUS  PISAMATH     BOY  MEANSCORE         A  2015  497.000         NaN\n",
       "..       ...       ...     ...        ...       ...   ...      ...         ...\n",
       "459      MAC  PISAMATH    GIRL  MEANSCORE         A  2015  548.000         NaN\n",
       "460      CRI  PISAMATH     BOY  MEANSCORE         A  2018  411.000         NaN\n",
       "461      CRI  PISAMATH    GIRL  MEANSCORE         A  2018  394.000         NaN\n",
       "462      LTU  PISAMATH     BOY  MEANSCORE         A  2018  480.000         NaN\n",
       "463      LTU  PISAMATH    GIRL  MEANSCORE         A  2018  482.000         NaN\n",
       "\n",
       "[464 rows x 8 columns]"
      ]
     },
     "execution_count": 4,
     "metadata": {},
     "output_type": "execute_result"
    }
   ],
   "source": [
    " #read in Math data\n",
    "pd.read_csv('C:/Users/danie/Documents/R/New folder/pisamath.csv')"
   ]
  },
  {
   "cell_type": "code",
   "execution_count": 5,
   "id": "bc85dff2",
   "metadata": {},
   "outputs": [],
   "source": [
    "#store math data\n",
    "pisamath= pd.read_csv('C:/Users/danie/Documents/R/New folder/pisamath.csv')"
   ]
  },
  {
   "cell_type": "code",
   "execution_count": 6,
   "id": "efbffd4e",
   "metadata": {},
   "outputs": [
    {
     "data": {
      "text/plain": [
       "<AxesSubplot:>"
      ]
     },
     "execution_count": 6,
     "metadata": {},
     "output_type": "execute_result"
    },
    {
     "data": {
      "image/png": "[encoded data removed]",
      "text/plain": [
       "<Figure size 432x288 with 1 Axes>"
      ]
     },
     "metadata": {
      "needs_background": "light"
     },
     "output_type": "display_data"
    }
   ],
   "source": [
    "#test for normality on math data for boys for all years\n",
    "pisamath.Value[pisamath.SUBJECT == 'BOY'].hist()\n"
   ]
  },
  {
   "cell_type": "code",
   "execution_count": 7,
   "id": "a73d9dbf",
   "metadata": {},
   "outputs": [
    {
     "data": {
      "text/plain": [
       "<AxesSubplot:>"
      ]
     },
     "execution_count": 7,
     "metadata": {},
     "output_type": "execute_result"
    },
    {
     "data": {
      "image/png": "[encoded data removed]",
      "text/plain": [
       "<Figure size 432x288 with 1 Axes>"
      ]
     },
     "metadata": {
      "needs_background": "light"
     },
     "output_type": "display_data"
    }
   ],
   "source": [
    "#test for normality for girls for all years and countries\n",
    "pisamath.Value[pisamath.SUBJECT == 'GIRL'].hist()"
   ]
  },
  {
   "cell_type": "code",
   "execution_count": 16,
   "id": "3b677828",
   "metadata": {},
   "outputs": [
    {
     "data": {
      "text/html": [
       "<div>\n",
       "<style scoped>\n",
       "    .dataframe tbody tr th:only-of-type {\n",
       "        vertical-align: middle;\n",
       "    }\n",
       "\n",
       "    .dataframe tbody tr th {\n",
       "        vertical-align: top;\n",
       "    }\n",
       "\n",
       "    .dataframe thead th {\n",
       "        text-align: right;\n",
       "    }\n",
       "</style>\n",
       "<table border=\"1\" class=\"dataframe\">\n",
       "  <thead>\n",
       "    <tr style=\"text-align: right;\">\n",
       "      <th></th>\n",
       "      <th>LOCATION</th>\n",
       "      <th>INDICATOR</th>\n",
       "      <th>SUBJECT</th>\n",
       "      <th>MEASURE</th>\n",
       "      <th>FREQUENCY</th>\n",
       "      <th>TIME</th>\n",
       "      <th>Value</th>\n",
       "      <th>Flag Codes</th>\n",
       "    </tr>\n",
       "  </thead>\n",
       "  <tbody>\n",
       "    <tr>\n",
       "      <th>2</th>\n",
       "      <td>AUS</td>\n",
       "      <td>PISAMATH</td>\n",
       "      <td>BOY</td>\n",
       "      <td>MEANSCORE</td>\n",
       "      <td>A</td>\n",
       "      <td>2009</td>\n",
       "      <td>519.000</td>\n",
       "      <td>NaN</td>\n",
       "    </tr>\n",
       "    <tr>\n",
       "      <th>3</th>\n",
       "      <td>AUS</td>\n",
       "      <td>PISAMATH</td>\n",
       "      <td>BOY</td>\n",
       "      <td>MEANSCORE</td>\n",
       "      <td>A</td>\n",
       "      <td>2012</td>\n",
       "      <td>510.115</td>\n",
       "      <td>NaN</td>\n",
       "    </tr>\n",
       "    <tr>\n",
       "      <th>4</th>\n",
       "      <td>AUS</td>\n",
       "      <td>PISAMATH</td>\n",
       "      <td>BOY</td>\n",
       "      <td>MEANSCORE</td>\n",
       "      <td>A</td>\n",
       "      <td>2015</td>\n",
       "      <td>497.000</td>\n",
       "      <td>NaN</td>\n",
       "    </tr>\n",
       "    <tr>\n",
       "      <th>8</th>\n",
       "      <td>AUS</td>\n",
       "      <td>PISAMATH</td>\n",
       "      <td>GIRL</td>\n",
       "      <td>MEANSCORE</td>\n",
       "      <td>A</td>\n",
       "      <td>2009</td>\n",
       "      <td>509.000</td>\n",
       "      <td>NaN</td>\n",
       "    </tr>\n",
       "    <tr>\n",
       "      <th>9</th>\n",
       "      <td>AUS</td>\n",
       "      <td>PISAMATH</td>\n",
       "      <td>GIRL</td>\n",
       "      <td>MEANSCORE</td>\n",
       "      <td>A</td>\n",
       "      <td>2012</td>\n",
       "      <td>497.821</td>\n",
       "      <td>NaN</td>\n",
       "    </tr>\n",
       "  </tbody>\n",
       "</table>\n",
       "</div>"
      ],
      "text/plain": [
       "  LOCATION INDICATOR SUBJECT    MEASURE FREQUENCY  TIME    Value  Flag Codes\n",
       "2      AUS  PISAMATH     BOY  MEANSCORE         A  2009  519.000         NaN\n",
       "3      AUS  PISAMATH     BOY  MEANSCORE         A  2012  510.115         NaN\n",
       "4      AUS  PISAMATH     BOY  MEANSCORE         A  2015  497.000         NaN\n",
       "8      AUS  PISAMATH    GIRL  MEANSCORE         A  2009  509.000         NaN\n",
       "9      AUS  PISAMATH    GIRL  MEANSCORE         A  2012  497.821         NaN"
      ]
     },
     "execution_count": 16,
     "metadata": {},
     "output_type": "execute_result"
    }
   ],
   "source": [
    "#subset rows data for all countries from 2009 to 2015\n",
    "pisamath1=pisamath[(pisamath.TIME > 2006) & (pisamath.TIME < 2018)]\n",
    "pisamath1.head()"
   ]
  },
  {
   "cell_type": "code",
   "execution_count": 17,
   "id": "18ef4e62",
   "metadata": {},
   "outputs": [
    {
     "data": {
      "text/plain": [
       "<AxesSubplot:>"
      ]
     },
     "execution_count": 17,
     "metadata": {},
     "output_type": "execute_result"
    },
    {
     "data": {
      "image/png": "[encoded data removed]",
      "text/plain": [
       "<Figure size 432x288 with 1 Axes>"
      ]
     },
     "metadata": {
      "needs_background": "light"
     },
     "output_type": "display_data"
    }
   ],
   "source": [
    "#second test for normality for years from 2009 to 2015\n",
    "pisamath1.Value[pisamath1.SUBJECT == 'BOY'].hist()"
   ]
  },
  {
   "cell_type": "code",
   "execution_count": 14,
   "id": "c2d7b377",
   "metadata": {},
   "outputs": [
    {
     "data": {
      "text/plain": [
       "<AxesSubplot:>"
      ]
     },
     "execution_count": 14,
     "metadata": {},
     "output_type": "execute_result"
    },
    {
     "data": {
      "image/png": "[encoded data removed]",
      "text/plain": [
       "<Figure size 432x288 with 1 Axes>"
      ]
     },
     "metadata": {
      "needs_background": "light"
     },
     "output_type": "display_data"
    }
   ],
   "source": [
    "#test for normality for girls for all countries from 2009 to 2015\n",
    "pisamath1.Value[pisamath1.SUBJECT == 'GIRL'].hist()"
   ]
  },
  {
   "cell_type": "code",
   "execution_count": 18,
   "id": "f77e0e5f",
   "metadata": {},
   "outputs": [
    {
     "data": {
      "text/plain": [
       "Ttest_indResult(statistic=1.8007493167116468, pvalue=0.07300835746776342)"
      ]
     },
     "execution_count": 18,
     "metadata": {},
     "output_type": "execute_result"
    }
   ],
   "source": [
    "#ttest\n",
    "ttest_ind(pisamath1.Value[pisamath.SUBJECT == 'BOY'], pisamath1.Value[pisamath1.SUBJECT == 'GIRL'])\n"
   ]
  },
  {
   "cell_type": "code",
   "execution_count": 19,
   "id": "a1d00fee",
   "metadata": {},
   "outputs": [
    {
     "data": {
      "text/html": [
       "<div>\n",
       "<style scoped>\n",
       "    .dataframe tbody tr th:only-of-type {\n",
       "        vertical-align: middle;\n",
       "    }\n",
       "\n",
       "    .dataframe tbody tr th {\n",
       "        vertical-align: top;\n",
       "    }\n",
       "\n",
       "    .dataframe thead th {\n",
       "        text-align: right;\n",
       "    }\n",
       "</style>\n",
       "<table border=\"1\" class=\"dataframe\">\n",
       "  <thead>\n",
       "    <tr style=\"text-align: right;\">\n",
       "      <th></th>\n",
       "      <th>LOCATION</th>\n",
       "      <th>INDICATOR</th>\n",
       "      <th>SUBJECT</th>\n",
       "      <th>MEASURE</th>\n",
       "      <th>FREQUENCY</th>\n",
       "      <th>TIME</th>\n",
       "      <th>Value</th>\n",
       "      <th>Flag Codes</th>\n",
       "    </tr>\n",
       "  </thead>\n",
       "  <tbody>\n",
       "    <tr>\n",
       "      <th>0</th>\n",
       "      <td>AUS</td>\n",
       "      <td>PISAREAD</td>\n",
       "      <td>BOY</td>\n",
       "      <td>MEANSCORE</td>\n",
       "      <td>A</td>\n",
       "      <td>2000</td>\n",
       "      <td>513.00</td>\n",
       "      <td>NaN</td>\n",
       "    </tr>\n",
       "    <tr>\n",
       "      <th>1</th>\n",
       "      <td>AUS</td>\n",
       "      <td>PISAREAD</td>\n",
       "      <td>BOY</td>\n",
       "      <td>MEANSCORE</td>\n",
       "      <td>A</td>\n",
       "      <td>2003</td>\n",
       "      <td>506.00</td>\n",
       "      <td>NaN</td>\n",
       "    </tr>\n",
       "    <tr>\n",
       "      <th>2</th>\n",
       "      <td>AUS</td>\n",
       "      <td>PISAREAD</td>\n",
       "      <td>BOY</td>\n",
       "      <td>MEANSCORE</td>\n",
       "      <td>A</td>\n",
       "      <td>2006</td>\n",
       "      <td>495.00</td>\n",
       "      <td>NaN</td>\n",
       "    </tr>\n",
       "    <tr>\n",
       "      <th>3</th>\n",
       "      <td>AUS</td>\n",
       "      <td>PISAREAD</td>\n",
       "      <td>BOY</td>\n",
       "      <td>MEANSCORE</td>\n",
       "      <td>A</td>\n",
       "      <td>2009</td>\n",
       "      <td>496.00</td>\n",
       "      <td>NaN</td>\n",
       "    </tr>\n",
       "    <tr>\n",
       "      <th>4</th>\n",
       "      <td>AUS</td>\n",
       "      <td>PISAREAD</td>\n",
       "      <td>BOY</td>\n",
       "      <td>MEANSCORE</td>\n",
       "      <td>A</td>\n",
       "      <td>2012</td>\n",
       "      <td>495.09</td>\n",
       "      <td>NaN</td>\n",
       "    </tr>\n",
       "    <tr>\n",
       "      <th>...</th>\n",
       "      <td>...</td>\n",
       "      <td>...</td>\n",
       "      <td>...</td>\n",
       "      <td>...</td>\n",
       "      <td>...</td>\n",
       "      <td>...</td>\n",
       "      <td>...</td>\n",
       "      <td>...</td>\n",
       "    </tr>\n",
       "    <tr>\n",
       "      <th>782</th>\n",
       "      <td>CRI</td>\n",
       "      <td>PISAREAD</td>\n",
       "      <td>BOY</td>\n",
       "      <td>MEANSCORE</td>\n",
       "      <td>A</td>\n",
       "      <td>2018</td>\n",
       "      <td>419.00</td>\n",
       "      <td>NaN</td>\n",
       "    </tr>\n",
       "    <tr>\n",
       "      <th>783</th>\n",
       "      <td>CRI</td>\n",
       "      <td>PISAREAD</td>\n",
       "      <td>GIRL</td>\n",
       "      <td>MEANSCORE</td>\n",
       "      <td>A</td>\n",
       "      <td>2018</td>\n",
       "      <td>434.00</td>\n",
       "      <td>NaN</td>\n",
       "    </tr>\n",
       "    <tr>\n",
       "      <th>784</th>\n",
       "      <td>LTU</td>\n",
       "      <td>PISAREAD</td>\n",
       "      <td>TOT</td>\n",
       "      <td>MEANSCORE</td>\n",
       "      <td>A</td>\n",
       "      <td>2018</td>\n",
       "      <td>476.00</td>\n",
       "      <td>NaN</td>\n",
       "    </tr>\n",
       "    <tr>\n",
       "      <th>785</th>\n",
       "      <td>LTU</td>\n",
       "      <td>PISAREAD</td>\n",
       "      <td>BOY</td>\n",
       "      <td>MEANSCORE</td>\n",
       "      <td>A</td>\n",
       "      <td>2018</td>\n",
       "      <td>457.00</td>\n",
       "      <td>NaN</td>\n",
       "    </tr>\n",
       "    <tr>\n",
       "      <th>786</th>\n",
       "      <td>LTU</td>\n",
       "      <td>PISAREAD</td>\n",
       "      <td>GIRL</td>\n",
       "      <td>MEANSCORE</td>\n",
       "      <td>A</td>\n",
       "      <td>2018</td>\n",
       "      <td>496.00</td>\n",
       "      <td>NaN</td>\n",
       "    </tr>\n",
       "  </tbody>\n",
       "</table>\n",
       "<p>787 rows × 8 columns</p>\n",
       "</div>"
      ],
      "text/plain": [
       "    LOCATION INDICATOR SUBJECT    MEASURE FREQUENCY  TIME   Value  Flag Codes\n",
       "0        AUS  PISAREAD     BOY  MEANSCORE         A  2000  513.00         NaN\n",
       "1        AUS  PISAREAD     BOY  MEANSCORE         A  2003  506.00         NaN\n",
       "2        AUS  PISAREAD     BOY  MEANSCORE         A  2006  495.00         NaN\n",
       "3        AUS  PISAREAD     BOY  MEANSCORE         A  2009  496.00         NaN\n",
       "4        AUS  PISAREAD     BOY  MEANSCORE         A  2012  495.09         NaN\n",
       "..       ...       ...     ...        ...       ...   ...     ...         ...\n",
       "782      CRI  PISAREAD     BOY  MEANSCORE         A  2018  419.00         NaN\n",
       "783      CRI  PISAREAD    GIRL  MEANSCORE         A  2018  434.00         NaN\n",
       "784      LTU  PISAREAD     TOT  MEANSCORE         A  2018  476.00         NaN\n",
       "785      LTU  PISAREAD     BOY  MEANSCORE         A  2018  457.00         NaN\n",
       "786      LTU  PISAREAD    GIRL  MEANSCORE         A  2018  496.00         NaN\n",
       "\n",
       "[787 rows x 8 columns]"
      ]
     },
     "execution_count": 19,
     "metadata": {},
     "output_type": "execute_result"
    }
   ],
   "source": [
    " #read in Reading data\n",
    "pd.read_csv('C:/Users/danie/Documents/R/New folder/pisareading.csv')"
   ]
  },
  {
   "cell_type": "code",
   "execution_count": 20,
   "id": "c7055563",
   "metadata": {},
   "outputs": [],
   "source": [
    "#store reading data\n",
    "pisareading= pd.read_csv('C:/Users/danie/Documents/R/New folder/pisareading.csv')"
   ]
  },
  {
   "cell_type": "code",
   "execution_count": 21,
   "id": "8b334e2f",
   "metadata": {},
   "outputs": [
    {
     "data": {
      "text/plain": [
       "<AxesSubplot:>"
      ]
     },
     "execution_count": 21,
     "metadata": {},
     "output_type": "execute_result"
    },
    {
     "data": {
      "image/png": "[encoded data removed]",
      "text/plain": [
       "<Figure size 432x288 with 1 Axes>"
      ]
     },
     "metadata": {
      "needs_background": "light"
     },
     "output_type": "display_data"
    }
   ],
   "source": [
    "#test for normality on reading data for boys for all years\n",
    "pisareading.Value[pisareading.SUBJECT == 'BOY'].hist()"
   ]
  },
  {
   "cell_type": "code",
   "execution_count": 22,
   "id": "1081d79b",
   "metadata": {},
   "outputs": [
    {
     "data": {
      "text/plain": [
       "<AxesSubplot:>"
      ]
     },
     "execution_count": 22,
     "metadata": {},
     "output_type": "execute_result"
    },
    {
     "data": {
      "image/png": "[encoded data removed]",
      "text/plain": [
       "<Figure size 432x288 with 1 Axes>"
      ]
     },
     "metadata": {
      "needs_background": "light"
     },
     "output_type": "display_data"
    }
   ],
   "source": [
    "#test for normality on reading data for girls for all years\n",
    "pisareading.Value[pisareading.SUBJECT == 'GIRL'].hist()"
   ]
  },
  {
   "cell_type": "code",
   "execution_count": 23,
   "id": "5ab87c84",
   "metadata": {},
   "outputs": [
    {
     "data": {
      "text/html": [
       "<div>\n",
       "<style scoped>\n",
       "    .dataframe tbody tr th:only-of-type {\n",
       "        vertical-align: middle;\n",
       "    }\n",
       "\n",
       "    .dataframe tbody tr th {\n",
       "        vertical-align: top;\n",
       "    }\n",
       "\n",
       "    .dataframe thead th {\n",
       "        text-align: right;\n",
       "    }\n",
       "</style>\n",
       "<table border=\"1\" class=\"dataframe\">\n",
       "  <thead>\n",
       "    <tr style=\"text-align: right;\">\n",
       "      <th></th>\n",
       "      <th>LOCATION</th>\n",
       "      <th>INDICATOR</th>\n",
       "      <th>SUBJECT</th>\n",
       "      <th>MEASURE</th>\n",
       "      <th>FREQUENCY</th>\n",
       "      <th>TIME</th>\n",
       "      <th>Value</th>\n",
       "      <th>Flag Codes</th>\n",
       "    </tr>\n",
       "  </thead>\n",
       "  <tbody>\n",
       "    <tr>\n",
       "      <th>3</th>\n",
       "      <td>AUS</td>\n",
       "      <td>PISAREAD</td>\n",
       "      <td>BOY</td>\n",
       "      <td>MEANSCORE</td>\n",
       "      <td>A</td>\n",
       "      <td>2009</td>\n",
       "      <td>496.000</td>\n",
       "      <td>NaN</td>\n",
       "    </tr>\n",
       "    <tr>\n",
       "      <th>4</th>\n",
       "      <td>AUS</td>\n",
       "      <td>PISAREAD</td>\n",
       "      <td>BOY</td>\n",
       "      <td>MEANSCORE</td>\n",
       "      <td>A</td>\n",
       "      <td>2012</td>\n",
       "      <td>495.090</td>\n",
       "      <td>NaN</td>\n",
       "    </tr>\n",
       "    <tr>\n",
       "      <th>5</th>\n",
       "      <td>AUS</td>\n",
       "      <td>PISAREAD</td>\n",
       "      <td>BOY</td>\n",
       "      <td>MEANSCORE</td>\n",
       "      <td>A</td>\n",
       "      <td>2015</td>\n",
       "      <td>487.000</td>\n",
       "      <td>NaN</td>\n",
       "    </tr>\n",
       "    <tr>\n",
       "      <th>10</th>\n",
       "      <td>AUS</td>\n",
       "      <td>PISAREAD</td>\n",
       "      <td>GIRL</td>\n",
       "      <td>MEANSCORE</td>\n",
       "      <td>A</td>\n",
       "      <td>2009</td>\n",
       "      <td>533.000</td>\n",
       "      <td>NaN</td>\n",
       "    </tr>\n",
       "    <tr>\n",
       "      <th>11</th>\n",
       "      <td>AUS</td>\n",
       "      <td>PISAREAD</td>\n",
       "      <td>GIRL</td>\n",
       "      <td>MEANSCORE</td>\n",
       "      <td>A</td>\n",
       "      <td>2012</td>\n",
       "      <td>529.542</td>\n",
       "      <td>NaN</td>\n",
       "    </tr>\n",
       "  </tbody>\n",
       "</table>\n",
       "</div>"
      ],
      "text/plain": [
       "   LOCATION INDICATOR SUBJECT    MEASURE FREQUENCY  TIME    Value  Flag Codes\n",
       "3       AUS  PISAREAD     BOY  MEANSCORE         A  2009  496.000         NaN\n",
       "4       AUS  PISAREAD     BOY  MEANSCORE         A  2012  495.090         NaN\n",
       "5       AUS  PISAREAD     BOY  MEANSCORE         A  2015  487.000         NaN\n",
       "10      AUS  PISAREAD    GIRL  MEANSCORE         A  2009  533.000         NaN\n",
       "11      AUS  PISAREAD    GIRL  MEANSCORE         A  2012  529.542         NaN"
      ]
     },
     "execution_count": 23,
     "metadata": {},
     "output_type": "execute_result"
    }
   ],
   "source": [
    "#subset rows data for all countries from 2009 to 2015\n",
    "pisareading1=pisareading[(pisareading.TIME > 2006) & (pisareading.TIME < 2018)]\n",
    "pisareading1.head()"
   ]
  },
  {
   "cell_type": "code",
   "execution_count": 24,
   "id": "d701256a",
   "metadata": {},
   "outputs": [
    {
     "data": {
      "text/plain": [
       "<AxesSubplot:>"
      ]
     },
     "execution_count": 24,
     "metadata": {},
     "output_type": "execute_result"
    },
    {
     "data": {
      "image/png": "[encoded data removed]",
      "text/plain": [
       "<Figure size 432x288 with 1 Axes>"
      ]
     },
     "metadata": {
      "needs_background": "light"
     },
     "output_type": "display_data"
    }
   ],
   "source": [
    "#second test for normality for years from 2009 to 2015\n",
    "pisareading1.Value[pisareading1.SUBJECT == 'BOY'].hist()"
   ]
  },
  {
   "cell_type": "code",
   "execution_count": 25,
   "id": "1ba7ab05",
   "metadata": {},
   "outputs": [
    {
     "data": {
      "text/plain": [
       "<AxesSubplot:>"
      ]
     },
     "execution_count": 25,
     "metadata": {},
     "output_type": "execute_result"
    },
    {
     "data": {
      "image/png": "[encoded data removed]",
      "text/plain": [
       "<Figure size 432x288 with 1 Axes>"
      ]
     },
     "metadata": {
      "needs_background": "light"
     },
     "output_type": "display_data"
    }
   ],
   "source": [
    "#second test for normality for years from 2009 to 2015\n",
    "pisareading1.Value[pisareading1.SUBJECT == 'GIRL'].hist()"
   ]
  },
  {
   "cell_type": "code",
   "execution_count": 26,
   "id": "54320da9",
   "metadata": {},
   "outputs": [
    {
     "data": {
      "text/plain": [
       "Ttest_indResult(statistic=-8.025599673851733, pvalue=4.615734577510864e-14)"
      ]
     },
     "execution_count": 26,
     "metadata": {},
     "output_type": "execute_result"
    }
   ],
   "source": [
    "#ttest\n",
    "ttest_ind(pisareading1.Value[pisareading.SUBJECT == 'BOY'], pisareading1.Value[pisareading1.SUBJECT == 'GIRL'])"
   ]
  },
  {
   "cell_type": "code",
   "execution_count": 27,
   "id": "b2d9875e",
   "metadata": {},
   "outputs": [
    {
     "data": {
      "text/html": [
       "<div>\n",
       "<style scoped>\n",
       "    .dataframe tbody tr th:only-of-type {\n",
       "        vertical-align: middle;\n",
       "    }\n",
       "\n",
       "    .dataframe tbody tr th {\n",
       "        vertical-align: top;\n",
       "    }\n",
       "\n",
       "    .dataframe thead th {\n",
       "        text-align: right;\n",
       "    }\n",
       "</style>\n",
       "<table border=\"1\" class=\"dataframe\">\n",
       "  <thead>\n",
       "    <tr style=\"text-align: right;\">\n",
       "      <th></th>\n",
       "      <th>LOCATION</th>\n",
       "      <th>INDICATOR</th>\n",
       "      <th>SUBJECT</th>\n",
       "      <th>MEASURE</th>\n",
       "      <th>FREQUENCY</th>\n",
       "      <th>TIME</th>\n",
       "      <th>Value</th>\n",
       "      <th>Flag Codes</th>\n",
       "    </tr>\n",
       "  </thead>\n",
       "  <tbody>\n",
       "    <tr>\n",
       "      <th>0</th>\n",
       "      <td>AUS</td>\n",
       "      <td>PISASCIENCE</td>\n",
       "      <td>BOY</td>\n",
       "      <td>MEANSCORE</td>\n",
       "      <td>A</td>\n",
       "      <td>2006</td>\n",
       "      <td>527.000</td>\n",
       "      <td>NaN</td>\n",
       "    </tr>\n",
       "    <tr>\n",
       "      <th>1</th>\n",
       "      <td>AUS</td>\n",
       "      <td>PISASCIENCE</td>\n",
       "      <td>BOY</td>\n",
       "      <td>MEANSCORE</td>\n",
       "      <td>A</td>\n",
       "      <td>2009</td>\n",
       "      <td>527.000</td>\n",
       "      <td>NaN</td>\n",
       "    </tr>\n",
       "    <tr>\n",
       "      <th>2</th>\n",
       "      <td>AUS</td>\n",
       "      <td>PISASCIENCE</td>\n",
       "      <td>BOY</td>\n",
       "      <td>MEANSCORE</td>\n",
       "      <td>A</td>\n",
       "      <td>2012</td>\n",
       "      <td>523.728</td>\n",
       "      <td>NaN</td>\n",
       "    </tr>\n",
       "    <tr>\n",
       "      <th>3</th>\n",
       "      <td>AUS</td>\n",
       "      <td>PISASCIENCE</td>\n",
       "      <td>BOY</td>\n",
       "      <td>MEANSCORE</td>\n",
       "      <td>A</td>\n",
       "      <td>2015</td>\n",
       "      <td>511.000</td>\n",
       "      <td>NaN</td>\n",
       "    </tr>\n",
       "    <tr>\n",
       "      <th>4</th>\n",
       "      <td>AUS</td>\n",
       "      <td>PISASCIENCE</td>\n",
       "      <td>BOY</td>\n",
       "      <td>MEANSCORE</td>\n",
       "      <td>A</td>\n",
       "      <td>2018</td>\n",
       "      <td>504.000</td>\n",
       "      <td>NaN</td>\n",
       "    </tr>\n",
       "    <tr>\n",
       "      <th>...</th>\n",
       "      <td>...</td>\n",
       "      <td>...</td>\n",
       "      <td>...</td>\n",
       "      <td>...</td>\n",
       "      <td>...</td>\n",
       "      <td>...</td>\n",
       "      <td>...</td>\n",
       "      <td>...</td>\n",
       "    </tr>\n",
       "    <tr>\n",
       "      <th>595</th>\n",
       "      <td>CRI</td>\n",
       "      <td>PISASCIENCE</td>\n",
       "      <td>BOY</td>\n",
       "      <td>MEANSCORE</td>\n",
       "      <td>A</td>\n",
       "      <td>2018</td>\n",
       "      <td>420.000</td>\n",
       "      <td>NaN</td>\n",
       "    </tr>\n",
       "    <tr>\n",
       "      <th>596</th>\n",
       "      <td>CRI</td>\n",
       "      <td>PISASCIENCE</td>\n",
       "      <td>GIRL</td>\n",
       "      <td>MEANSCORE</td>\n",
       "      <td>A</td>\n",
       "      <td>2018</td>\n",
       "      <td>411.000</td>\n",
       "      <td>NaN</td>\n",
       "    </tr>\n",
       "    <tr>\n",
       "      <th>597</th>\n",
       "      <td>LTU</td>\n",
       "      <td>PISASCIENCE</td>\n",
       "      <td>TOT</td>\n",
       "      <td>MEANSCORE</td>\n",
       "      <td>A</td>\n",
       "      <td>2018</td>\n",
       "      <td>482.000</td>\n",
       "      <td>NaN</td>\n",
       "    </tr>\n",
       "    <tr>\n",
       "      <th>598</th>\n",
       "      <td>LTU</td>\n",
       "      <td>PISASCIENCE</td>\n",
       "      <td>BOY</td>\n",
       "      <td>MEANSCORE</td>\n",
       "      <td>A</td>\n",
       "      <td>2018</td>\n",
       "      <td>479.000</td>\n",
       "      <td>NaN</td>\n",
       "    </tr>\n",
       "    <tr>\n",
       "      <th>599</th>\n",
       "      <td>LTU</td>\n",
       "      <td>PISASCIENCE</td>\n",
       "      <td>GIRL</td>\n",
       "      <td>MEANSCORE</td>\n",
       "      <td>A</td>\n",
       "      <td>2018</td>\n",
       "      <td>485.000</td>\n",
       "      <td>NaN</td>\n",
       "    </tr>\n",
       "  </tbody>\n",
       "</table>\n",
       "<p>600 rows × 8 columns</p>\n",
       "</div>"
      ],
      "text/plain": [
       "    LOCATION    INDICATOR SUBJECT    MEASURE FREQUENCY  TIME    Value  \\\n",
       "0        AUS  PISASCIENCE     BOY  MEANSCORE         A  2006  527.000   \n",
       "1        AUS  PISASCIENCE     BOY  MEANSCORE         A  2009  527.000   \n",
       "2        AUS  PISASCIENCE     BOY  MEANSCORE         A  2012  523.728   \n",
       "3        AUS  PISASCIENCE     BOY  MEANSCORE         A  2015  511.000   \n",
       "4        AUS  PISASCIENCE     BOY  MEANSCORE         A  2018  504.000   \n",
       "..       ...          ...     ...        ...       ...   ...      ...   \n",
       "595      CRI  PISASCIENCE     BOY  MEANSCORE         A  2018  420.000   \n",
       "596      CRI  PISASCIENCE    GIRL  MEANSCORE         A  2018  411.000   \n",
       "597      LTU  PISASCIENCE     TOT  MEANSCORE         A  2018  482.000   \n",
       "598      LTU  PISASCIENCE     BOY  MEANSCORE         A  2018  479.000   \n",
       "599      LTU  PISASCIENCE    GIRL  MEANSCORE         A  2018  485.000   \n",
       "\n",
       "     Flag Codes  \n",
       "0           NaN  \n",
       "1           NaN  \n",
       "2           NaN  \n",
       "3           NaN  \n",
       "4           NaN  \n",
       "..          ...  \n",
       "595         NaN  \n",
       "596         NaN  \n",
       "597         NaN  \n",
       "598         NaN  \n",
       "599         NaN  \n",
       "\n",
       "[600 rows x 8 columns]"
      ]
     },
     "execution_count": 27,
     "metadata": {},
     "output_type": "execute_result"
    }
   ],
   "source": [
    " #read in Science data\n",
    "pd.read_csv('C:/Users/danie/Documents/R/New folder/pisascience.csv')"
   ]
  },
  {
   "cell_type": "code",
   "execution_count": 4,
   "id": "b5c5b3fe",
   "metadata": {},
   "outputs": [],
   "source": [
    "#store cience data\n",
    "pisascience= pd.read_csv('C:/Users/danie/Documents/R/New folder/pisascience.csv')"
   ]
  },
  {
   "cell_type": "code",
   "execution_count": 5,
   "id": "272a2fbc",
   "metadata": {},
   "outputs": [
    {
     "data": {
      "text/plain": [
       "<AxesSubplot:>"
      ]
     },
     "execution_count": 5,
     "metadata": {},
     "output_type": "execute_result"
    },
    {
     "data": {
      "image/png": "[encoded data removed]",
      "text/plain": [
       "<Figure size 432x288 with 1 Axes>"
      ]
     },
     "metadata": {
      "needs_background": "light"
     },
     "output_type": "display_data"
    }
   ],
   "source": [
    "#test for normality on math data for boys for all years\n",
    "pisascience.Value[pisascience.SUBJECT == 'BOY'].hist()"
   ]
  },
  {
   "cell_type": "code",
   "execution_count": 10,
   "id": "0ecb39b3",
   "metadata": {},
   "outputs": [
    {
     "data": {
      "text/plain": [
       "array(['AUS', 'AUT', 'BEL', 'CAN', 'CZE', 'DNK', 'FIN', 'FRA', 'DEU',\n",
       "       'GRC', 'HUN', 'ISL', 'IRL', 'ITA', 'JPN', 'KOR', 'LUX', 'MEX',\n",
       "       'NLD', 'NZL', 'NOR', 'POL', 'PRT', 'SVK', 'ESP', 'SWE', 'CHE',\n",
       "       'TUR', 'GBR', 'USA', 'BRA', 'CHL', 'EST', 'IDN', 'ISR', 'RUS',\n",
       "       'SVN', 'OAVG', 'LVA', 'SGP', 'COL', 'HKG', 'PER', 'TWN', 'MAC',\n",
       "       'CRI', 'LTU'], dtype=object)"
      ]
     },
     "execution_count": 10,
     "metadata": {},
     "output_type": "execute_result"
    }
   ],
   "source": [
    "pisascience.LOCATION.unique()"
   ]
  },
  {
   "cell_type": "code",
   "execution_count": 11,
   "id": "833e178f",
   "metadata": {},
   "outputs": [],
   "source": [
    "pisascience_subset = pisascience[pisascience['LOCATION'].isin(['AUS', 'AUT', 'BEL', 'CAN', 'CZE', 'DNK'])]"
   ]
  },
  {
   "cell_type": "code",
   "execution_count": 12,
   "id": "47c7e11e",
   "metadata": {},
   "outputs": [
    {
     "data": {
      "text/html": [
       "<div>\n",
       "<style scoped>\n",
       "    .dataframe tbody tr th:only-of-type {\n",
       "        vertical-align: middle;\n",
       "    }\n",
       "\n",
       "    .dataframe tbody tr th {\n",
       "        vertical-align: top;\n",
       "    }\n",
       "\n",
       "    .dataframe thead th {\n",
       "        text-align: right;\n",
       "    }\n",
       "</style>\n",
       "<table border=\"1\" class=\"dataframe\">\n",
       "  <thead>\n",
       "    <tr style=\"text-align: right;\">\n",
       "      <th></th>\n",
       "      <th>LOCATION</th>\n",
       "      <th>INDICATOR</th>\n",
       "      <th>SUBJECT</th>\n",
       "      <th>MEASURE</th>\n",
       "      <th>FREQUENCY</th>\n",
       "      <th>TIME</th>\n",
       "      <th>Value</th>\n",
       "      <th>Flag Codes</th>\n",
       "    </tr>\n",
       "  </thead>\n",
       "  <tbody>\n",
       "    <tr>\n",
       "      <th>0</th>\n",
       "      <td>AUS</td>\n",
       "      <td>PISASCIENCE</td>\n",
       "      <td>BOY</td>\n",
       "      <td>MEANSCORE</td>\n",
       "      <td>A</td>\n",
       "      <td>2006</td>\n",
       "      <td>527.000</td>\n",
       "      <td>NaN</td>\n",
       "    </tr>\n",
       "    <tr>\n",
       "      <th>1</th>\n",
       "      <td>AUS</td>\n",
       "      <td>PISASCIENCE</td>\n",
       "      <td>BOY</td>\n",
       "      <td>MEANSCORE</td>\n",
       "      <td>A</td>\n",
       "      <td>2009</td>\n",
       "      <td>527.000</td>\n",
       "      <td>NaN</td>\n",
       "    </tr>\n",
       "    <tr>\n",
       "      <th>2</th>\n",
       "      <td>AUS</td>\n",
       "      <td>PISASCIENCE</td>\n",
       "      <td>BOY</td>\n",
       "      <td>MEANSCORE</td>\n",
       "      <td>A</td>\n",
       "      <td>2012</td>\n",
       "      <td>523.728</td>\n",
       "      <td>NaN</td>\n",
       "    </tr>\n",
       "    <tr>\n",
       "      <th>3</th>\n",
       "      <td>AUS</td>\n",
       "      <td>PISASCIENCE</td>\n",
       "      <td>BOY</td>\n",
       "      <td>MEANSCORE</td>\n",
       "      <td>A</td>\n",
       "      <td>2015</td>\n",
       "      <td>511.000</td>\n",
       "      <td>NaN</td>\n",
       "    </tr>\n",
       "    <tr>\n",
       "      <th>4</th>\n",
       "      <td>AUS</td>\n",
       "      <td>PISASCIENCE</td>\n",
       "      <td>BOY</td>\n",
       "      <td>MEANSCORE</td>\n",
       "      <td>A</td>\n",
       "      <td>2018</td>\n",
       "      <td>504.000</td>\n",
       "      <td>NaN</td>\n",
       "    </tr>\n",
       "    <tr>\n",
       "      <th>...</th>\n",
       "      <td>...</td>\n",
       "      <td>...</td>\n",
       "      <td>...</td>\n",
       "      <td>...</td>\n",
       "      <td>...</td>\n",
       "      <td>...</td>\n",
       "      <td>...</td>\n",
       "      <td>...</td>\n",
       "    </tr>\n",
       "    <tr>\n",
       "      <th>404</th>\n",
       "      <td>DNK</td>\n",
       "      <td>PISASCIENCE</td>\n",
       "      <td>TOT</td>\n",
       "      <td>MEANSCORE</td>\n",
       "      <td>A</td>\n",
       "      <td>2006</td>\n",
       "      <td>496.000</td>\n",
       "      <td>NaN</td>\n",
       "    </tr>\n",
       "    <tr>\n",
       "      <th>405</th>\n",
       "      <td>DNK</td>\n",
       "      <td>PISASCIENCE</td>\n",
       "      <td>TOT</td>\n",
       "      <td>MEANSCORE</td>\n",
       "      <td>A</td>\n",
       "      <td>2009</td>\n",
       "      <td>499.000</td>\n",
       "      <td>NaN</td>\n",
       "    </tr>\n",
       "    <tr>\n",
       "      <th>406</th>\n",
       "      <td>DNK</td>\n",
       "      <td>PISASCIENCE</td>\n",
       "      <td>TOT</td>\n",
       "      <td>MEANSCORE</td>\n",
       "      <td>A</td>\n",
       "      <td>2012</td>\n",
       "      <td>498.000</td>\n",
       "      <td>NaN</td>\n",
       "    </tr>\n",
       "    <tr>\n",
       "      <th>407</th>\n",
       "      <td>DNK</td>\n",
       "      <td>PISASCIENCE</td>\n",
       "      <td>TOT</td>\n",
       "      <td>MEANSCORE</td>\n",
       "      <td>A</td>\n",
       "      <td>2015</td>\n",
       "      <td>502.000</td>\n",
       "      <td>NaN</td>\n",
       "    </tr>\n",
       "    <tr>\n",
       "      <th>408</th>\n",
       "      <td>DNK</td>\n",
       "      <td>PISASCIENCE</td>\n",
       "      <td>TOT</td>\n",
       "      <td>MEANSCORE</td>\n",
       "      <td>A</td>\n",
       "      <td>2018</td>\n",
       "      <td>493.000</td>\n",
       "      <td>NaN</td>\n",
       "    </tr>\n",
       "  </tbody>\n",
       "</table>\n",
       "<p>87 rows × 8 columns</p>\n",
       "</div>"
      ],
      "text/plain": [
       "    LOCATION    INDICATOR SUBJECT    MEASURE FREQUENCY  TIME    Value  \\\n",
       "0        AUS  PISASCIENCE     BOY  MEANSCORE         A  2006  527.000   \n",
       "1        AUS  PISASCIENCE     BOY  MEANSCORE         A  2009  527.000   \n",
       "2        AUS  PISASCIENCE     BOY  MEANSCORE         A  2012  523.728   \n",
       "3        AUS  PISASCIENCE     BOY  MEANSCORE         A  2015  511.000   \n",
       "4        AUS  PISASCIENCE     BOY  MEANSCORE         A  2018  504.000   \n",
       "..       ...          ...     ...        ...       ...   ...      ...   \n",
       "404      DNK  PISASCIENCE     TOT  MEANSCORE         A  2006  496.000   \n",
       "405      DNK  PISASCIENCE     TOT  MEANSCORE         A  2009  499.000   \n",
       "406      DNK  PISASCIENCE     TOT  MEANSCORE         A  2012  498.000   \n",
       "407      DNK  PISASCIENCE     TOT  MEANSCORE         A  2015  502.000   \n",
       "408      DNK  PISASCIENCE     TOT  MEANSCORE         A  2018  493.000   \n",
       "\n",
       "     Flag Codes  \n",
       "0           NaN  \n",
       "1           NaN  \n",
       "2           NaN  \n",
       "3           NaN  \n",
       "4           NaN  \n",
       "..          ...  \n",
       "404         NaN  \n",
       "405         NaN  \n",
       "406         NaN  \n",
       "407         NaN  \n",
       "408         NaN  \n",
       "\n",
       "[87 rows x 8 columns]"
      ]
     },
     "execution_count": 12,
     "metadata": {},
     "output_type": "execute_result"
    }
   ],
   "source": [
    "pisascience_subset"
   ]
  },
  {
   "cell_type": "code",
   "execution_count": null,
   "id": "141476fb",
   "metadata": {},
   "outputs": [],
   "source": []
  }
 ],
 "metadata": {
  "kernelspec": {
   "display_name": "Python 3 (ipykernel)",
   "language": "python",
   "name": "python3"
  },
  "language_info": {
   "codemirror_mode": {
    "name": "ipython",
    "version": 3
   },
   "file_extension": ".py",
   "mimetype": "text/x-python",
   "name": "python",
   "nbconvert_exporter": "python",
   "pygments_lexer": "ipython3",
   "version": "3.9.7"
  }
 },
 "nbformat": 4,
 "nbformat_minor": 5
}
