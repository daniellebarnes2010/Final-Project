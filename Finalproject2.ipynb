{
 "cells": [
  {
   "cell_type": "code",
   "execution_count": 2,
   "id": "2dab9a2c",
   "metadata": {},
   "outputs": [
    {
     "data": {
      "text/plain": [
       "<AxesSubplot:>"
      ]
     },
     "execution_count": 2,
     "metadata": {},
     "output_type": "execute_result"
    },
    {
     "data": {
      "image/png": "[encoded data removed]",
      "text/plain": [
       "<Figure size 432x288 with 1 Axes>"
      ]
     },
     "metadata": {
      "needs_background": "light"
     },
     "output_type": "display_data"
    }
   ],
   "source": [
    "#import packages\n",
    "import pandas as pd\n",
    "import numpy as np\n",
    "from scipy import stats\n",
    "from scipy.stats import ttest_ind\n",
    " \n",
    "    #read in Math data\n",
    "pisaall = pd.read_csv('C:/Users/danie/OneDrive/nya_files/Documents/pisaall.csv')\n",
    "\n",
    "\n",
    "#test for normality on all data for boys for all years\n",
    "pisaall.Value[pisaall.SUBJECT == 'BOY'].hist()"
   ]
  },
  {
   "cell_type": "code",
   "execution_count": 3,
   "id": "3d4a0690",
   "metadata": {},
   "outputs": [
    {
     "data": {
      "text/plain": [
       "<AxesSubplot:>"
      ]
     },
     "execution_count": 3,
     "metadata": {},
     "output_type": "execute_result"
    },
    {
     "data": {
      "image/png": "[encoded data removed]",
      "text/plain": [
       "<Figure size 432x288 with 1 Axes>"
      ]
     },
     "metadata": {
      "needs_background": "light"
     },
     "output_type": "display_data"
    }
   ],
   "source": [
    "#test for normality on all data for girls for all years\n",
    "pisaall.Value[pisaall.SUBJECT == 'GIRL'].hist()"
   ]
  },
  {
   "cell_type": "code",
   "execution_count": 5,
   "id": "b895c387",
   "metadata": {},
   "outputs": [],
   "source": [
    "#subset data for 7 countries from 2012 to 2018\n",
    "pisa7 = pisaall[(pisaall[\"TIME\"] == \"2012\") & (pisaall[\"TIME\"] <= 2018) | (pisaall[\"LOCATION\"].isin([\"AUS\", \"MEX\", \"LUX\", \"JPN\", \"KOR\", \"TUR\", \"USA\"]))]"
   ]
  },
  {
   "cell_type": "code",
   "execution_count": 6,
   "id": "6964ab99",
   "metadata": {},
   "outputs": [
    {
     "data": {
      "text/html": [
       "<div>\n",
       "<style scoped>\n",
       "    .dataframe tbody tr th:only-of-type {\n",
       "        vertical-align: middle;\n",
       "    }\n",
       "\n",
       "    .dataframe tbody tr th {\n",
       "        vertical-align: top;\n",
       "    }\n",
       "\n",
       "    .dataframe thead th {\n",
       "        text-align: right;\n",
       "    }\n",
       "</style>\n",
       "<table border=\"1\" class=\"dataframe\">\n",
       "  <thead>\n",
       "    <tr style=\"text-align: right;\">\n",
       "      <th></th>\n",
       "      <th>LOCATION</th>\n",
       "      <th>INDICATOR</th>\n",
       "      <th>SUBJECT</th>\n",
       "      <th>MEASURE</th>\n",
       "      <th>FREQUENCY</th>\n",
       "      <th>TIME</th>\n",
       "      <th>Value</th>\n",
       "      <th>Flag Codes</th>\n",
       "    </tr>\n",
       "  </thead>\n",
       "  <tbody>\n",
       "    <tr>\n",
       "      <th>0</th>\n",
       "      <td>AUS</td>\n",
       "      <td>PISAMATH</td>\n",
       "      <td>BOY</td>\n",
       "      <td>MEANSCORE</td>\n",
       "      <td>A</td>\n",
       "      <td>2003</td>\n",
       "      <td>527.000</td>\n",
       "      <td>NaN</td>\n",
       "    </tr>\n",
       "    <tr>\n",
       "      <th>1</th>\n",
       "      <td>AUS</td>\n",
       "      <td>PISAMATH</td>\n",
       "      <td>BOY</td>\n",
       "      <td>MEANSCORE</td>\n",
       "      <td>A</td>\n",
       "      <td>2006</td>\n",
       "      <td>527.000</td>\n",
       "      <td>NaN</td>\n",
       "    </tr>\n",
       "    <tr>\n",
       "      <th>2</th>\n",
       "      <td>AUS</td>\n",
       "      <td>PISAMATH</td>\n",
       "      <td>BOY</td>\n",
       "      <td>MEANSCORE</td>\n",
       "      <td>A</td>\n",
       "      <td>2009</td>\n",
       "      <td>519.000</td>\n",
       "      <td>NaN</td>\n",
       "    </tr>\n",
       "    <tr>\n",
       "      <th>3</th>\n",
       "      <td>AUS</td>\n",
       "      <td>PISAMATH</td>\n",
       "      <td>BOY</td>\n",
       "      <td>MEANSCORE</td>\n",
       "      <td>A</td>\n",
       "      <td>2012</td>\n",
       "      <td>510.115</td>\n",
       "      <td>NaN</td>\n",
       "    </tr>\n",
       "    <tr>\n",
       "      <th>4</th>\n",
       "      <td>AUS</td>\n",
       "      <td>PISAMATH</td>\n",
       "      <td>BOY</td>\n",
       "      <td>MEANSCORE</td>\n",
       "      <td>A</td>\n",
       "      <td>2015</td>\n",
       "      <td>497.000</td>\n",
       "      <td>NaN</td>\n",
       "    </tr>\n",
       "  </tbody>\n",
       "</table>\n",
       "</div>"
      ],
      "text/plain": [
       "  LOCATION INDICATOR SUBJECT    MEASURE FREQUENCY  TIME    Value  Flag Codes\n",
       "0      AUS  PISAMATH     BOY  MEANSCORE         A  2003  527.000         NaN\n",
       "1      AUS  PISAMATH     BOY  MEANSCORE         A  2006  527.000         NaN\n",
       "2      AUS  PISAMATH     BOY  MEANSCORE         A  2009  519.000         NaN\n",
       "3      AUS  PISAMATH     BOY  MEANSCORE         A  2012  510.115         NaN\n",
       "4      AUS  PISAMATH     BOY  MEANSCORE         A  2015  497.000         NaN"
      ]
     },
     "execution_count": 6,
     "metadata": {},
     "output_type": "execute_result"
    }
   ],
   "source": [
    "#new subset data\n",
    "pisa7.head()"
   ]
  },
  {
   "cell_type": "code",
   "execution_count": 7,
   "id": "aa335ed6",
   "metadata": {},
   "outputs": [
    {
     "data": {
      "text/plain": [
       "<AxesSubplot:>"
      ]
     },
     "execution_count": 7,
     "metadata": {},
     "output_type": "execute_result"
    },
    {
     "data": {
      "image/png": "[encoded data removed]",
      "text/plain": [
       "<Figure size 432x288 with 1 Axes>"
      ]
     },
     "metadata": {
      "needs_background": "light"
     },
     "output_type": "display_data"
    }
   ],
   "source": [
    "#test for normalilty on subset data for girls\n",
    "pisa7.Value[pisa7.SUBJECT == 'GIRL'].hist()"
   ]
  },
  {
   "cell_type": "code",
   "execution_count": 8,
   "id": "bdaf420e",
   "metadata": {},
   "outputs": [
    {
     "data": {
      "text/plain": [
       "<AxesSubplot:>"
      ]
     },
     "execution_count": 8,
     "metadata": {},
     "output_type": "execute_result"
    },
    {
     "data": {
      "image/png": "[encoded data removed]",
      "text/plain": [
       "<Figure size 432x288 with 1 Axes>"
      ]
     },
     "metadata": {
      "needs_background": "light"
     },
     "output_type": "display_data"
    }
   ],
   "source": [
    "#test for normality on subset data for boys\n",
    "pisa7.Value[pisa7.SUBJECT == 'BOY'].hist()"
   ]
  },
  {
   "cell_type": "code",
   "execution_count": 9,
   "id": "0c9bfc9a",
   "metadata": {},
   "outputs": [
    {
     "data": {
      "text/plain": [
       "Ttest_indResult(statistic=1.191759108096292, pvalue=0.23470079249129427)"
      ]
     },
     "execution_count": 9,
     "metadata": {},
     "output_type": "execute_result"
    }
   ],
   "source": [
    "#ttest on subset data\n",
    "ttest_ind(pisa7.Value[pisa7.SUBJECT == 'GIRL'], pisa7.Value[pisa7.SUBJECT == 'BOY'])\n"
   ]
  },
  {
   "cell_type": "code",
   "execution_count": 10,
   "id": "8dd30b06",
   "metadata": {},
   "outputs": [],
   "source": [
    "#import packages for ANOVA\n",
    "from statsmodels.stats.multicomp import pairwise_tukeyhsd\n",
    "from statsmodels.stats.multicomp import MultiComparison\n"
   ]
  },
  {
   "cell_type": "code",
   "execution_count": 11,
   "id": "96e810d5",
   "metadata": {},
   "outputs": [
    {
     "name": "stdout",
     "output_type": "stream",
     "text": [
      "<class 'pandas.core.frame.DataFrame'>\n",
      "Int64Index: 281 entries, 0 to 1779\n",
      "Data columns (total 8 columns):\n",
      " #   Column      Non-Null Count  Dtype  \n",
      "---  ------      --------------  -----  \n",
      " 0   LOCATION    281 non-null    object \n",
      " 1   INDICATOR   281 non-null    object \n",
      " 2   SUBJECT     281 non-null    object \n",
      " 3   MEASURE     281 non-null    object \n",
      " 4   FREQUENCY   281 non-null    object \n",
      " 5   TIME        281 non-null    int64  \n",
      " 6   Value       281 non-null    float64\n",
      " 7   Flag Codes  0 non-null      float64\n",
      "dtypes: float64(2), int64(1), object(5)\n",
      "memory usage: 19.8+ KB\n"
     ]
    }
   ],
   "source": [
    "#check to ensure that both DV and IV are integers\n",
    "pisa7.info()\n"
   ]
  },
  {
   "cell_type": "code",
   "execution_count": 14,
   "id": "c6736228",
   "metadata": {},
   "outputs": [
    {
     "name": "stderr",
     "output_type": "stream",
     "text": [
      "C:\\Users\\danie\\AppData\\Local\\Temp\\ipykernel_15404\\2253990600.py:17: SettingWithCopyWarning: \n",
      "A value is trying to be set on a copy of a slice from a DataFrame.\n",
      "Try using .loc[row_indexer,col_indexer] = value instead\n",
      "\n",
      "See the caveats in the documentation: https://pandas.pydata.org/pandas-docs/stable/user_guide/indexing.html#returning-a-view-versus-a-copy\n",
      "  pisa7['LOCATIONC'] = pisa7['LOCATION'].apply(recode)\n"
     ]
    }
   ],
   "source": [
    "#recode IV\n",
    "def recode (series):\n",
    "    if series == \"AUS\": \n",
    "        return 0\n",
    "    if series == \"MEX\": \n",
    "        return 1\n",
    "    if series == \"LUX\": \n",
    "        return 2\n",
    "    if series == \"JPN\": \n",
    "        return 3\n",
    "    if series == \"KOR\": \n",
    "        return 4\n",
    "    if series == \"TUR\": \n",
    "        return 5\n",
    "    if series == \"USA\": \n",
    "        return 6\n",
    "    \n",
    "pisa7['LOCATIONC'] = pisa7['LOCATION'].apply(recode)\n",
    "\n",
    "    \n",
    " \n",
    "\n"
   ]
  },
  {
   "cell_type": "code",
   "execution_count": 15,
   "id": "ae21d68e",
   "metadata": {},
   "outputs": [],
   "source": [
    "##create dataset with recoded data\n",
    "pisa8 = pisa7[['LOCATIONC','Value']]"
   ]
  },
  {
   "cell_type": "code",
   "execution_count": 18,
   "id": "30371d67",
   "metadata": {},
   "outputs": [
    {
     "name": "stderr",
     "output_type": "stream",
     "text": [
      "C:\\Users\\danie\\anaconda3\\lib\\site-packages\\seaborn\\distributions.py:2619: FutureWarning: `distplot` is a deprecated function and will be removed in a future version. Please adapt your code to use either `displot` (a figure-level function with similar flexibility) or `histplot` (an axes-level function for histograms).\n",
      "  warnings.warn(msg, FutureWarning)\n"
     ]
    },
    {
     "data": {
      "text/plain": [
       "<AxesSubplot:xlabel='Value', ylabel='Density'>"
      ]
     },
     "execution_count": 18,
     "metadata": {},
     "output_type": "execute_result"
    },
    {
     "data": {
      "image/png": "[encoded data removed]",
      "text/plain": [
       "<Figure size 432x288 with 1 Axes>"
      ]
     },
     "metadata": {
      "needs_background": "light"
     },
     "output_type": "display_data"
    }
   ],
   "source": [
    "#import package to test for normality of IV\n",
    "import seaborn as sns\n",
    "\n",
    "sns.distplot(pisa8['Value'])"
   ]
  },
  {
   "cell_type": "code",
   "execution_count": 20,
   "id": "fb6dc24a",
   "metadata": {},
   "outputs": [
    {
     "data": {
      "text/plain": [
       "BartlettResult(statistic=1285.5072298453001, pvalue=1.594841143327938e-281)"
      ]
     },
     "execution_count": 20,
     "metadata": {},
     "output_type": "execute_result"
    }
   ],
   "source": [
    "#import package to run ANOVA\n",
    "from scipy.stats import bartlett\n",
    "\n",
    "\n",
    "bartlett(pisa8['Value'], pisa8['LOCATIONC'])\n"
   ]
  },
  {
   "cell_type": "code",
   "execution_count": null,
   "id": "d02aba7d",
   "metadata": {},
   "outputs": [],
   "source": []
  }
 ],
 "metadata": {
  "kernelspec": {
   "display_name": "Python 3 (ipykernel)",
   "language": "python",
   "name": "python3"
  },
  "language_info": {
   "codemirror_mode": {
    "name": "ipython",
    "version": 3
   },
   "file_extension": ".py",
   "mimetype": "text/x-python",
   "name": "python",
   "nbconvert_exporter": "python",
   "pygments_lexer": "ipython3",
   "version": "3.9.12"
  }
 },
 "nbformat": 4,
 "nbformat_minor": 5
}
